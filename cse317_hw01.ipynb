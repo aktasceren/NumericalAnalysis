{
  "nbformat": 4,
  "nbformat_minor": 0,
  "metadata": {
    "kernelspec": {
      "display_name": "Python 3",
      "language": "python",
      "name": "python3"
    },
    "language_info": {
      "codemirror_mode": {
        "name": "ipython",
        "version": 3
      },
      "file_extension": ".py",
      "mimetype": "text/x-python",
      "name": "python",
      "nbconvert_exporter": "python",
      "pygments_lexer": "ipython3",
      "version": "3.7.8"
    },
    "colab": {
      "name": "cse317_hw01.ipynb",
      "provenance": [],
      "include_colab_link": true
    }
  },
  "cells": [
    {
      "cell_type": "markdown",
      "metadata": {
        "id": "view-in-github",
        "colab_type": "text"
      },
      "source": [
        "<a href=\"https://colab.research.google.com/github/aktasceren/NumericalAnalysis/blob/main/cse317_hw01.ipynb\" target=\"_parent\"><img src=\"https://colab.research.google.com/assets/colab-badge.svg\" alt=\"Open In Colab\"/></a>"
      ]
    },
    {
      "cell_type": "code",
      "metadata": {
        "colab": {
          "base_uri": "https://localhost:8080/"
        },
        "id": "1uR8jOOFkM9t",
        "outputId": "5cde2917-98d1-482d-b390-c3eb7b695966"
      },
      "source": [
        "from sympy import diff, sin, exp\n",
        "import numpy as np\n",
        "import math\n",
        "from sympy.abc import * \n",
        "\n",
        "\n",
        "x, a = symbols(\"x a\")\n",
        "\n",
        "#derivative of function\n",
        "def der(expr, n):\n",
        "    if n > 1:\n",
        "        return der(diff(expr), n-1)\n",
        "    return expr\n",
        "\n",
        "def taylor_expansion(func, process):\n",
        "    # process -= 1\n",
        "    TaylorExpansion = func\n",
        "    f = der(func, 2)\n",
        "    for i in range(1, process):\n",
        "        TaylorExpansion += pow(x-a, i)*der(f, i) / math.factorial(i)        \n",
        "    return TaylorExpansion\n",
        "\n",
        "TaylorExpansion = taylor_expansion(sin(2*a), 5)\n",
        "#print(\"Taylor series expension where a = 0: \", TaylorExpansion)\n",
        "\n",
        "TaylorExpansion = TaylorExpansion.subs([(x, math.pi/4), (a, 0)])\n",
        "#print(\"Taylor series expansion for first five terms where x is pi/4 = \", TaylorExpansion)\n",
        "\n",
        "#TaylorExpansion is calculated value\n",
        "realValue = sin(2*(math.pi/4)) #real value of sin2x\n",
        "\n",
        "print(\"\\n-----1. Question-----\\n\")\n",
        "\n",
        "#Absolute Error\n",
        "AbsoluteError = abs(realValue- TaylorExpansion)\n",
        "print(\"Absolute error: \", AbsoluteError)\n",
        "\n",
        "#RelativeError\n",
        "\n",
        "RelativeError = AbsoluteError/realValue\n",
        "print(\"Relative Error:\", RelativeError)\n",
        "\n",
        "#Percentage Error\n",
        "PercentageError = ((realValue - TaylorExpansion) / realValue) * 100\n",
        "print(\"Percentage error: % \", PercentageError)\n",
        "\n"
      ],
      "execution_count": 1,
      "outputs": [
        {
          "output_type": "stream",
          "text": [
            "\n",
            "-----1. Question-----\n",
            "\n",
            "Absolute error:  0.0751677707113496\n",
            "Relative Error: 0.0751677707113496\n",
            "Percentage error: %  7.51677707113496\n"
          ],
          "name": "stdout"
        }
      ]
    },
    {
      "cell_type": "code",
      "metadata": {
        "colab": {
          "base_uri": "https://localhost:8080/"
        },
        "id": "5Px70l81kM-N",
        "outputId": "61278464-f0da-439f-a79f-0d4c5ee2bb72"
      },
      "source": [
        "np.set_printoptions(formatter={'float': lambda x: \"{0:0.5f}\".format(x)})\n",
        "\n",
        "def gauss_elimination(matrix, b):\n",
        "    L = np.zeros((3, 3), float)\n",
        "    x_vector = np.zeros((3, 1), float)\n",
        "    #print(\"-----multipliers-----\")\n",
        "    \n",
        "    for i in range(2):\n",
        "        for j in range(3):\n",
        "            if i == j:\n",
        "                for k in range(j+1, 3):\n",
        "                    multiplier = matrix[k][i]/matrix[i][i]\n",
        "                    #print(multiplier)\n",
        "                    matrix[k, :] = matrix[k, :] - multiplier*matrix[i, :]\n",
        "                    b[k] = b[k]-multiplier*b[i]\n",
        "                    \n",
        "    #print(\"-----after elimination transformation----- \\n\\n-----matrix A-----\")\n",
        "    #print(matrix)\n",
        "    #print(\"\\n-----vector b-----\")\n",
        "    #print(b)\n",
        "    #inverse = np.linalg.inv(matrix) \n",
        "    #print(matrix)\n",
        "    \n",
        "    print(\"-----After Back Substitution Phase-----\\n\\n-----vector x-----\")\n",
        "    #print(inverse.dot(b)) \n",
        "    x_vector[2] = b[2]/matrix[2][2]\n",
        "    \n",
        "    for i in range(1, -1, -1):\n",
        "        eq = b[i]\n",
        "        for j in range(i + 1, 3):\n",
        "            eq = eq - matrix[i][j]*x_vector[j]\n",
        "        x_vector[i] = eq / matrix[i][i]\n",
        "    print(x_vector)\n",
        "\n",
        "A1 = np.array([[2, -3, -1],\n",
        "              [3, 2, -5],\n",
        "              [2, 4, -1]], float)\n",
        "\n",
        "B1 = np.array([[3],\n",
        "             [-9],\n",
        "             [-5]], float)\n",
        "\n",
        "print(\"-----2. Question-----\\n\")\n",
        "second_question = gauss_elimination(A1, B1)"
      ],
      "execution_count": 2,
      "outputs": [
        {
          "output_type": "stream",
          "text": [
            "-----2. Question-----\n",
            "\n",
            "-----After Back Substitution Phase-----\n",
            "\n",
            "-----vector x-----\n",
            "[[0.65306]\n",
            " [-1.14286]\n",
            " [1.73469]]\n"
          ],
          "name": "stdout"
        }
      ]
    },
    {
      "cell_type": "code",
      "metadata": {
        "colab": {
          "base_uri": "https://localhost:8080/"
        },
        "id": "hYrcrdtPkM-R",
        "outputId": "79bffb3a-2f19-4d57-cfb6-c70a1387436a"
      },
      "source": [
        "def doolittles_decomposition(matrix, b):\n",
        "    \n",
        "    L= np.array([[1, 0, 0],\n",
        "                 [1, 1, 0],\n",
        "                 [1, 1, 1]], float)\n",
        "    U= matrix\n",
        "    \n",
        "    for i in range(2):\n",
        "        for j in range(3):\n",
        "            if i == j:\n",
        "                for k in range(j+1, 3):\n",
        "                    multiplier = matrix[k][i]/matrix[i][i]\n",
        "                    matrix[k, :] = matrix[k, :] - multiplier*matrix[i, :]\n",
        "                    matrix[k][i]=multiplier\n",
        "                    U[k][i] = 0\n",
        "                    L[k][i] = multiplier\n",
        "                    \n",
        "    #print(matrix)\n",
        "    #print(\"----L----\")\n",
        "    #print(L)\n",
        "    y = np.linalg.inv(L).dot(b)\n",
        "    #print(\"-----y-----\")\n",
        "    #print(y)\n",
        "    #print(\"----U----\")\n",
        "    #print(U)\n",
        "    x = np.linalg.inv(U).dot(y)\n",
        "    print(\"----x----\")\n",
        "    print(x)\n",
        "    \n",
        "A3= np.array([[2.34, -4.10, 1.78], \n",
        "              [-1.98, 3.47, -2.22],\n",
        "              [2.36, -15.17, 6.18]], float)\n",
        "\n",
        "B3= np.array([[0.02],\n",
        "              [-0.73],\n",
        "              [-6.63]], float)\n",
        "\n",
        "print(\"\\n-----3. Question-----\\n\")\n",
        "v = doolittles_decomposition(A3, B3)"
      ],
      "execution_count": 3,
      "outputs": [
        {
          "output_type": "stream",
          "text": [
            "\n",
            "-----3. Question-----\n",
            "\n",
            "----x----\n",
            "[[1.00000]\n",
            " [1.00000]\n",
            " [1.00000]]\n"
          ],
          "name": "stdout"
        }
      ]
    },
    {
      "cell_type": "code",
      "metadata": {
        "colab": {
          "base_uri": "https://localhost:8080/"
        },
        "id": "uAqtOGCVkM-U",
        "outputId": "d838c111-2a66-4bde-cc56-a8ca35cf8043"
      },
      "source": [
        "def cholesky_decomposition(matrix, b):\n",
        "    \n",
        "    L = np.zeros((3, 3), float)\n",
        "    \n",
        "    for j in range(3):\n",
        "        for i in range(3):\n",
        "            sum_of_elements = 0\n",
        "            #for diagonal terms\n",
        "            if i == j:\n",
        "                for k in range(j):\n",
        "                    sum_of_elements += L[j][k] ** 2\n",
        "                L[j][j] = math.sqrt(matrix[j][j] - sum_of_elements)                \n",
        "            #for nondiagonal terms\n",
        "            elif i > j:\n",
        "                for k in range(j):\n",
        "                    sum_of_elements += L[i][k] * L[j][k]\n",
        "                L[i][j] = (matrix[i][j] - sum_of_elements) / L[j][j]\n",
        "    #print(\"-----matrix L-----\")\n",
        "    #print(L)\n",
        "    x_vector = lu_decomposition(L, b)\n",
        "    print(\"\\n-----x is equal-----\")\n",
        "    print(x_vector)\n",
        "\n",
        "\n",
        "def transpose(matrix):\n",
        "    transpose_of_matrix = np.zeros((3, 3), float)\n",
        "    for i in range(3):\n",
        "        for j in range(3):\n",
        "            transpose_of_matrix[j][i] = matrix[i][j]\n",
        "    #print(\"\\n-----transpose of matrix L-----\")\n",
        "    #print(transpose_of_matrix)\n",
        "    return transpose_of_matrix\n",
        "\n",
        "\n",
        "def lu_decomposition(matrix, b):\n",
        "    inverse_of_matrix = np.linalg.inv(matrix)\n",
        "    inverse_of_transpose_of_matrix = np.linalg.inv(transpose(matrix))\n",
        "    y = inverse_of_matrix.dot(b)\n",
        "    #print(\"\\n-----y is equal-----\")\n",
        "    #print(y)\n",
        "    x = inverse_of_transpose_of_matrix.dot(y)\n",
        "    return x\n",
        "\n",
        "\n",
        "A2 = np.array([[1, 1, 1],\n",
        "              [1, 2, 2],\n",
        "              [1, 2, 3]])\n",
        "\n",
        "B2 = np.array([[1],\n",
        "              [1.5],\n",
        "              [3]])\n",
        "\n",
        "print(\"\\n-----4. Question-----\")\n",
        "cholesky_decomposition(A2, B2)"
      ],
      "execution_count": 4,
      "outputs": [
        {
          "output_type": "stream",
          "text": [
            "\n",
            "-----4. Question-----\n",
            "\n",
            "-----x is equal-----\n",
            "[[0.50000]\n",
            " [-1.00000]\n",
            " [1.50000]]\n"
          ],
          "name": "stdout"
        }
      ]
    },
    {
      "cell_type": "code",
      "metadata": {
        "id": "vs4ZE2LUkM-Y"
      },
      "source": [
        ""
      ],
      "execution_count": null,
      "outputs": []
    }
  ]
}