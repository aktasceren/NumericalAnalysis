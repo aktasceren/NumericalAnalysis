{
  "nbformat": 4,
  "nbformat_minor": 0,
  "metadata": {
    "accelerator": "TPU",
    "colab": {
      "name": "cse317_hw02.ipynb",
      "provenance": [],
      "collapsed_sections": [],
      "include_colab_link": true
    },
    "kernelspec": {
      "display_name": "Python 3",
      "language": "python",
      "name": "python3"
    },
    "language_info": {
      "codemirror_mode": {
        "name": "ipython",
        "version": 3
      },
      "file_extension": ".py",
      "mimetype": "text/x-python",
      "name": "python",
      "nbconvert_exporter": "python",
      "pygments_lexer": "ipython3",
      "version": "3.7.8"
    }
  },
  "cells": [
    {
      "cell_type": "markdown",
      "metadata": {
        "id": "view-in-github",
        "colab_type": "text"
      },
      "source": [
        "<a href=\"https://colab.research.google.com/github/aktasceren/NumericalAnalysis/blob/main/cse317_hw02.ipynb\" target=\"_parent\"><img src=\"https://colab.research.google.com/assets/colab-badge.svg\" alt=\"Open In Colab\"/></a>"
      ]
    },
    {
      "cell_type": "code",
      "metadata": {
        "id": "pan9ZqyGq2_u"
      },
      "source": [
        "from sympy import diff, sin, exp\n",
        "import numpy as np\n",
        "import math\n",
        "from sympy.abc import * \n",
        "import pandas as pd\n",
        "import matplotlib.pyplot as plt"
      ],
      "execution_count": 7,
      "outputs": []
    },
    {
      "cell_type": "markdown",
      "metadata": {
        "id": "L2w-R4nfwpVJ"
      },
      "source": [
        "Question 1"
      ]
    },
    {
      "cell_type": "code",
      "metadata": {
        "id": "4vmFrdaM21pA"
      },
      "source": [
        "x, a, h = symbols(\"x a h\")"
      ],
      "execution_count": 8,
      "outputs": []
    },
    {
      "cell_type": "code",
      "metadata": {
        "id": "A06yunE5BIg1"
      },
      "source": [
        "x_coordinates = np.array([-2, 0, 1, 3]) # x coordinates\n",
        "y_coordinates = np.array([8, 4, 2, -2]) # f(x)"
      ],
      "execution_count": 9,
      "outputs": []
    },
    {
      "cell_type": "code",
      "metadata": {
        "id": "tM9hngEzCnqp"
      },
      "source": [
        "def NDD(x_list, y_list, degree):\n",
        "  n = len(y_list)\n",
        "  # coefficients table\n",
        "  table = np.zeros([n, degree+2])\n",
        "  # set first column as x \n",
        "  table[::,0] = x_list\n",
        "  # set second column as y \n",
        "  table[::,1] = y_list \n",
        "  k = 0\n",
        "  for j in range(2,degree+2):\n",
        "    for i in range(j-1, n):\n",
        "      table[i][j] = (table[i][j-1] - table[k][j-1]) / (table[i][0] - table[k][0])\n",
        "    k+=1\n",
        "      \n",
        "  # initialize y for given degree \n",
        "  y_degree = 0\n",
        "  for i in range(degree + 1):  \n",
        "    xs = 1    \n",
        "    for j in range(i):\n",
        "      # (x - x0), (x - x0)*(x - x1)...\n",
        "      xs  *= (x - table[j][0])\n",
        "\n",
        "    y_degree += xs*table[i][i+1] \n",
        "  return y_degree"
      ],
      "execution_count": 10,
      "outputs": []
    },
    {
      "cell_type": "code",
      "metadata": {
        "colab": {
          "base_uri": "https://localhost:8080/",
          "height": 38
        },
        "id": "x-R_qnVzCgic",
        "outputId": "9e56da2f-f246-4063-f808-05a8c95bc920"
      },
      "source": [
        "NDD(x_coordinates, y_coordinates, 3)"
      ],
      "execution_count": 11,
      "outputs": [
        {
          "output_type": "execute_result",
          "data": {
            "text/latex": "$\\displaystyle 4.0 - 2.0 x$",
            "text/plain": [
              "4.0 - 2.0*x"
            ]
          },
          "metadata": {
            "tags": []
          },
          "execution_count": 11
        }
      ]
    },
    {
      "cell_type": "markdown",
      "metadata": {
        "id": "pTOKUTkowllM"
      },
      "source": [
        "Question 2"
      ]
    },
    {
      "cell_type": "code",
      "metadata": {
        "id": "ZhcRcNOhq4gZ"
      },
      "source": [
        "#derivative of function\n",
        "def der(expr, n):\n",
        "    if n > 0:\n",
        "        return der(diff(expr), n-1)\n",
        "    return expr"
      ],
      "execution_count": 12,
      "outputs": []
    },
    {
      "cell_type": "code",
      "metadata": {
        "id": "Hchj9rukyIkQ"
      },
      "source": [
        "def newton_raphson(f, x0):\n",
        "  # for x values\n",
        "  xs = [x0]\n",
        "  derivative_of_func = der((f), 1)\n",
        "  i = 0\n",
        "  # the roots until the result equal to zero\n",
        "  while True:\n",
        "    x0 = xs[i]\n",
        "    x_next = x0 - float(f.subs([(x, x0)])/derivative_of_func.subs([(x, x0)]))\n",
        "    xs.append(x_next)\n",
        "    result_of_func = f.subs([(x, x_next)])\n",
        "    round_of_result = round(result_of_func, 10)\n",
        "    i += 1\n",
        "    if round_of_result == 0:\n",
        "      print(\"result:\" + \"\\n{:.4f}\".format(result_of_func))\n",
        "      print(\"root:\")\n",
        "      return round(x_next, 4)      \n",
        "      break\n",
        "  "
      ],
      "execution_count": 13,
      "outputs": []
    },
    {
      "cell_type": "code",
      "metadata": {
        "id": "pNphxwgZq8Ms"
      },
      "source": [
        "func = 3*x*x*x + x**2 - x - 5"
      ],
      "execution_count": 14,
      "outputs": []
    },
    {
      "cell_type": "code",
      "metadata": {
        "colab": {
          "base_uri": "https://localhost:8080/"
        },
        "id": "q9mXdPvmK0nf",
        "outputId": "ee678d23-cc1c-43c4-e877-23573222799c"
      },
      "source": [
        "newton_raphson(func, -1)"
      ],
      "execution_count": 15,
      "outputs": [
        {
          "output_type": "stream",
          "text": [
            "result:\n",
            "0.0000\n",
            "root:\n"
          ],
          "name": "stdout"
        },
        {
          "output_type": "execute_result",
          "data": {
            "text/plain": [
              "1.1697"
            ]
          },
          "metadata": {
            "tags": []
          },
          "execution_count": 15
        }
      ]
    },
    {
      "cell_type": "markdown",
      "metadata": {
        "id": "N4HlvgIOxP9a"
      },
      "source": [
        "Question 3"
      ]
    },
    {
      "cell_type": "code",
      "metadata": {
        "id": "r9W9mx-W9Ubb"
      },
      "source": [
        "def finite_difference(x, order, df):\n",
        "  labels =[\"f\\'(x)\", \"f\\'\\'(x)\", \"f\\'\\'\\'(x)\", \"f⁽\\N{SUPERSCRIPT FOUR}⁾(x)\"]\n",
        "\n",
        "  # coefficient tables\n",
        "  df_forward_difference = pd.DataFrame(np.array([[2*h, -3, 4, -1, None, None, None], [h**2, 2, -5, 4, -1, None, None], [2*h**3, -5, 18, -24, 14, -3, None], [h**4, 3, -14, 26, -24, 11, -2]]), index = labels,\n",
        "                                      columns = ['Coefficients of derivatives', 'f(x)', 'f(x+h)', 'f(x+2h)', 'f(x+3h)', 'f(x+4h)', 'f(x+5h)'])\n",
        "  \n",
        "  df_backward_difference = pd.DataFrame(np.array([[2*h, None, None, None, 1, -4, 3], [h**2, None, None, -1,  4, -5, 2], [2*h**3, None, 3, -14, 24, -18, 5], [h**4, -2, 11, -24, 26, -14, 3]]), index = labels,\n",
        "                                     columns = ['Coefficients of derivatives', 'f(x-5h)', 'f(x-4h)', 'f(x-3h)', 'f(x-2h)', 'f(x-h)', 'f(x)'])\n",
        "  \n",
        "  df_central_difference = pd.DataFrame(np.array([[2*h, None, -1, 0, 1, None], [h**2, None, 1, -2, 1, None], [2*h**3, -1, 2,  0, -2,  1], [h**4, 1, -4, 6, -4, 1]]), index = labels, \n",
        "                                  columns= ['Coefficients of derivatives', 'f(x-2h)', 'f(x-h)', 'f(x)','f(x+h)', 'f(x+2h)'])\n",
        "  \n",
        "  # index of x in data table\n",
        "  index = df.columns.get_loc(x)\n",
        "\n",
        "  # h in the formula\n",
        "  difference = df.columns[index] - df.columns[index - 1]\n",
        "\n",
        "  # derivative order\n",
        "  der = labels[order - 1]\n",
        "\n",
        "  # coefficient list according to derivative order\n",
        "  get_coeff_FD = df_forward_difference.loc[der].tolist()\n",
        "  get_coeff_BD = df_backward_difference.loc[der].tolist()\n",
        "  get_coeff_CD = df_central_difference.loc[der].tolist()\n",
        "\n",
        "  # initialize ?\n",
        "  forward_difference, backward_difference, central_difference = 0, 0, 0\n",
        "\n",
        "  # calculations for Forward Difference Approximation\n",
        "  for i in range(1, len(get_coeff_FD) - 1):\n",
        "    if not (0 <= index + i - 1 < len(df.iloc[0])) and get_coeff_FD[i] is not None:\n",
        "      forward_difference = \"There is not enough data for calculation for Forward Finite Difference Approximation\"\n",
        "      break\n",
        "    else:\n",
        "      if get_coeff_FD[i] is None:\n",
        "        pass\n",
        "      else:\n",
        "        forward_difference += get_coeff_FD[i]*df.iloc[0][df.columns[index + i - 1]]\n",
        "\n",
        "  # y value for the derivative of selected order \n",
        "  if type(forward_difference) is not str:\n",
        "    forward_difference = forward_difference / get_coeff_FD[0].subs([(h, difference)])\n",
        "\n",
        "  # calculations for Backward Difference Approximations\n",
        "  for i in range(len(get_coeff_BD) - 1, 1, -1):\n",
        "    if not (0 <= i - index - 2 < len(df.iloc[0])) and get_coeff_BD[i] is not None:\n",
        "      backward_difference = \"There is not enough data for calculation for Backward Finite Difference Approximation\"\n",
        "      break\n",
        "    else:\n",
        "      if get_coeff_BD[i] is None:\n",
        "        pass\n",
        "      else:\n",
        "        backward_difference += get_coeff_BD[i]*df.iloc[0][df.columns[i - index - 2]]\n",
        "\n",
        "  # y value for the derivative of selected order\n",
        "  if type(backward_difference) is not str:\n",
        "    backward_difference = backward_difference / get_coeff_FD[0].subs([(h, difference)])\n",
        "\n",
        "  for i in range(len(get_coeff_CD) - 1, 1, -1):\n",
        "    if not (0 <= i - index + 1 < len(df.iloc[0])) and get_coeff_CD[i] is not None:\n",
        "      central_difference = \"There is not enough data for calculation for Central Finite Difference Approximation\"\n",
        "      break\n",
        "    else:\n",
        "      if get_coeff_CD[i] is None:\n",
        "        pass\n",
        "      else:\n",
        "        central_difference += get_coeff_CD[i]*df.iloc[0][df.columns[i - index + 1]]\n",
        "  \n",
        "  # y value for the derivative of selected order\n",
        "  if type(central_difference) is not str:\n",
        "    central_difference = central_difference / get_coeff_FD[0].subs([(h, difference)])\n",
        "\n",
        "  print(\"Finite Difference Approximations Result of O(h\\N{SUPERSCRIPT TWO}) to compute \" + der + \" where x = \" + str(x) + \":\")\n",
        "  print(forward_difference)\n",
        "  print(backward_difference)\n",
        "  print(central_difference)\n",
        "\n",
        "  # display coefficient tables\n",
        "  # print(\"\\n            \\033[1mCoefficients of Forward Finite Difference Approximations\")\n",
        "  # display(df_forward_difference)\n",
        "  # print(\"\\n            \\033[1mCoefficients of Backward Finite Difference Approximations\")\n",
        "  # display(df_backward_difference)\n",
        "  # print(\"\\n          \\033[1mCoefficients of Central Finite Difference Approximations\")\n",
        "  # display(df_central_difference)"
      ],
      "execution_count": 16,
      "outputs": []
    },
    {
      "cell_type": "code",
      "metadata": {
        "id": "tFKE9FaX4tuC"
      },
      "source": [
        "data = pd.DataFrame(np.array([[0.85866, 0.86289, 0.86710, 0.87129]]), columns = [2.36, 2.37, 2.38, 2.39])"
      ],
      "execution_count": 17,
      "outputs": []
    },
    {
      "cell_type": "code",
      "metadata": {
        "colab": {
          "base_uri": "https://localhost:8080/"
        },
        "id": "u-VtPXNJA46K",
        "outputId": "3bdc2512-3d6f-43be-9ea4-6d67f19e8354"
      },
      "source": [
        "finite_difference(2.38, 1, data)"
      ],
      "execution_count": 18,
      "outputs": [
        {
          "output_type": "stream",
          "text": [
            "Finite Difference Approximations Result of O(h²) to compute f'(x) where x = 2.38:\n",
            "There is not enough data for calculation for Forward Finite Difference Approximation\n",
            "0.420000000000007\n",
            "0.420000000000007\n"
          ],
          "name": "stdout"
        }
      ]
    },
    {
      "cell_type": "code",
      "metadata": {
        "colab": {
          "base_uri": "https://localhost:8080/"
        },
        "id": "0SSOLG41wjSZ",
        "outputId": "3277412a-4deb-4485-b6f6-02e94725387d"
      },
      "source": [
        "finite_difference(2.38, 2, data)"
      ],
      "execution_count": 19,
      "outputs": [
        {
          "output_type": "stream",
          "text": [
            "Finite Difference Approximations Result of O(h²) to compute f''(x) where x = 2.38:\n",
            "There is not enough data for calculation for Forward Finite Difference Approximation\n",
            "There is not enough data for calculation for Backward Finite Difference Approximation\n",
            "-0.199999999999098\n"
          ],
          "name": "stdout"
        }
      ]
    },
    {
      "cell_type": "markdown",
      "metadata": {
        "id": "17jyrwl8we9E"
      },
      "source": [
        "Question 4"
      ]
    },
    {
      "cell_type": "code",
      "metadata": {
        "id": "a5MWIVFX2vV7"
      },
      "source": [
        "def simpsons_rule(f, panel, a, b):\n",
        "  iteration = int(panel / 2)\n",
        "  h = (b-a)/panel\n",
        "  f_a = f.subs([(x, a)])\n",
        "  f_b = f.subs([(x, b)])\n",
        "  func_subs = (f_a + 4*f.subs([(x, h)]) +f_b)\n",
        "  j = 2\n",
        "  for i in range(iteration-1): \n",
        "    func_subs += 2*f.subs([(x, j*h)]) + 4*f.subs([(x, (j+1)*h)])\n",
        "    j += 2\n",
        "  I = func_subs*h/3\n",
        "  return I"
      ],
      "execution_count": 20,
      "outputs": []
    },
    {
      "cell_type": "code",
      "metadata": {
        "colab": {
          "base_uri": "https://localhost:8080/",
          "height": 37
        },
        "id": "LdX_5-Bh77AE",
        "outputId": "6c698aef-a7ba-4033-d0e4-638b2414acf7"
      },
      "source": [
        "# two panels\n",
        "simpsons_rule(x**2, 2, 0, 1)"
      ],
      "execution_count": 21,
      "outputs": [
        {
          "output_type": "execute_result",
          "data": {
            "text/latex": "$\\displaystyle 0.333333333333333$",
            "text/plain": [
              "0.333333333333333"
            ]
          },
          "metadata": {
            "tags": []
          },
          "execution_count": 21
        }
      ]
    },
    {
      "cell_type": "code",
      "metadata": {
        "colab": {
          "base_uri": "https://localhost:8080/",
          "height": 37
        },
        "id": "9tiw0xHhxz_l",
        "outputId": "cfa09e39-f37c-4729-890d-927d01faa007"
      },
      "source": [
        "# four panels\n",
        "simpsons_rule(x**2, 4, 0, 1)"
      ],
      "execution_count": 22,
      "outputs": [
        {
          "output_type": "execute_result",
          "data": {
            "text/latex": "$\\displaystyle 0.333333333333333$",
            "text/plain": [
              "0.333333333333333"
            ]
          },
          "metadata": {
            "tags": []
          },
          "execution_count": 22
        }
      ]
    },
    {
      "cell_type": "code",
      "metadata": {
        "colab": {
          "base_uri": "https://localhost:8080/",
          "height": 37
        },
        "id": "9x1L9-Jjx0Hj",
        "outputId": "e6d881e6-f2b9-4cc6-bd3e-e7a88350160c"
      },
      "source": [
        "# six panels\n",
        "simpsons_rule(x**2, 6, 0, 1)"
      ],
      "execution_count": 23,
      "outputs": [
        {
          "output_type": "execute_result",
          "data": {
            "text/latex": "$\\displaystyle 0.333333333333333$",
            "text/plain": [
              "0.333333333333333"
            ]
          },
          "metadata": {
            "tags": []
          },
          "execution_count": 23
        }
      ]
    }
  ]
}